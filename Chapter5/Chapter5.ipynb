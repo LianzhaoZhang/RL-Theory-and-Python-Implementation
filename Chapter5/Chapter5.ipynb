{
 "cells": [
  {
   "cell_type": "code",
   "execution_count": 15,
   "metadata": {},
   "outputs": [],
   "source": [
    "import gym\n",
    "import numpy as np\n",
    "from matplotlib import pyplot as plt\n",
    "from matplotlib import animation\n",
    "import time"
   ]
  },
  {
   "cell_type": "markdown",
   "metadata": {},
   "source": [
    "### 5-1 初始化环境并玩1步(此代码不友好，不建议运行)"
   ]
  },
  {
   "cell_type": "code",
   "execution_count": 2,
   "metadata": {},
   "outputs": [
    {
     "data": {
      "text/plain": [
       "\"\\nenv=gym.make('Taxi-v3')\\nobservation=env.reset()\\ntaxirow,taxicol,passloc,destidx=env.unwrapped.decode(observation)\\nprint(taxirow,taxicol,passloc,destidx)\\nprint('出租车位置={}'.format((taxirow,taxicol)))\\nprint('乘客位置={}'.format(env.unwrapped.locs[passloc]))\\nprint('目标位置={}'.format(env.unwrapped.locs[destidx]))\\nenv.render()\\nenv.step(1)\\nenv.close()\\n\""
      ]
     },
     "execution_count": 2,
     "metadata": {},
     "output_type": "execute_result"
    }
   ],
   "source": [
    "'''\n",
    "env=gym.make('Taxi-v3')\n",
    "observation=env.reset()\n",
    "taxirow,taxicol,passloc,destidx=env.unwrapped.decode(observation)\n",
    "print(taxirow,taxicol,passloc,destidx)\n",
    "print('出租车位置={}'.format((taxirow,taxicol)))\n",
    "print('乘客位置={}'.format(env.unwrapped.locs[passloc]))\n",
    "print('目标位置={}'.format(env.unwrapped.locs[destidx]))\n",
    "env.render()\n",
    "env.step(1)\n",
    "env.close()\n",
    "'''"
   ]
  },
  {
   "cell_type": "markdown",
   "metadata": {},
   "source": [
    "### 5-2 SARSA算法智能体的实现"
   ]
  },
  {
   "cell_type": "code",
   "execution_count": 99,
   "metadata": {},
   "outputs": [],
   "source": [
    "class SARSAAgent:#算法5-6\n",
    "    def __init__(self,env,gamma=0.9,learning_rate=0.1,epsilon=0.01):\n",
    "        self.gamma=gamma\n",
    "        self.epsilon=epsilon\n",
    "        self.learning_rate=learning_rate\n",
    "        self.action_n=env.action_space.n\n",
    "        self.q=np.zeros(shape=(env.observation_space.n,env.action_space.n))\n",
    "\n",
    "    def decides(self,state):\n",
    "        if np.random.uniform() < self.epsilon:\n",
    "            action=np.random.randint(self.action_n)\n",
    "        else:\n",
    "            action=self.q[state].argmax()\n",
    "        return action\n",
    "\n",
    "    def learn(self,state,action,next_state,next_action,reward,done):\n",
    "        u=reward+self.gamma*self.q[next_state,next_action]*(1.-done)\n",
    "        error=u-self.q[state,action]\n",
    "        self.q[state,action] += self.learning_rate*error\n",
    "\n",
    "    "
   ]
  },
  {
   "cell_type": "markdown",
   "metadata": {},
   "source": [
    "### 5-3 SARSA智能体与环境交互1回合"
   ]
  },
  {
   "cell_type": "code",
   "execution_count": 100,
   "metadata": {},
   "outputs": [],
   "source": [
    "def play_sarsa(env,agent,train=False,render=False):\n",
    "    episode_reward=0\n",
    "    observation=env.reset()\n",
    "    action=agent.decides(observation)\n",
    "    while 1:\n",
    "        if render:\n",
    "            env.render()\n",
    "        next_observation,reward,done,info=env.step(action)\n",
    "        episode_reward += reward\n",
    "        next_action=agent.decides(next_observation)\n",
    "        if train:\n",
    "            agent.learn(observation,action,next_observation,next_action,reward,done)\n",
    "        if done:\n",
    "            break\n",
    "        observation,action=next_observation,next_action\n",
    "    return episode_reward   "
   ]
  },
  {
   "cell_type": "markdown",
   "metadata": {},
   "source": [
    "### 5-4 训练SARSA算法"
   ]
  },
  {
   "cell_type": "code",
   "execution_count": 101,
   "metadata": {},
   "outputs": [
    {
     "name": "stdout",
     "output_type": "stream",
     "text": [
      "当前步数：4995------当步奖励：10\n",
      "当前步数：4996------当步奖励：10\n",
      "当前步数：4997------当步奖励：6\n",
      "当前步数：4998------当步奖励：9\n",
      "当前步数：4999------当步奖励：10\n"
     ]
    },
    {
     "data": {
      "image/png": "[encoded data removed]",
      "text/plain": [
       "<Figure size 432x288 with 1 Axes>"
      ]
     },
     "metadata": {
      "needs_background": "light"
     },
     "output_type": "display_data"
    }
   ],
   "source": [
    "env=gym.make('Taxi-v3')\n",
    "agent=SARSAAgent(env)\n",
    "turns=5000\n",
    "episode_rewards=[]\n",
    "for turn in range(turns):\n",
    "    if turn<turns-5:\n",
    "        episode_reward=play_sarsa(env,agent,train=True,render=False)\n",
    "    else:\n",
    "        episode_reward=play_sarsa(env,agent,train=True,render=True)\n",
    "        print('当前步数：{}------当步奖励：{}'.format(turn,episode_reward))\n",
    "    episode_rewards.append(episode_reward)\n",
    "plt.plot(episode_rewards)\n",
    "env.close()"
   ]
  },
  {
   "cell_type": "markdown",
   "metadata": {},
   "source": [
    "### 5-5 测试SARSA算法"
   ]
  },
  {
   "cell_type": "code",
   "execution_count": 78,
   "metadata": {},
   "outputs": [
    {
     "name": "stdout",
     "output_type": "stream",
     "text": [
      "平均回合奖励=810/100=8.1\n"
     ]
    }
   ],
   "source": [
    "agent.epsilon=0.\n",
    "episode_rewards=[play_sarsa(env,agent) for i in range(100)]\n",
    "print('平均回合奖励={}/{}={}'.format(sum(episode_rewards),len(episode_rewards),np.mean(episode_rewards)))"
   ]
  },
  {
   "cell_type": "markdown",
   "metadata": {},
   "source": [
    "### 5-6 期望SARSA算法智能体类"
   ]
  },
  {
   "cell_type": "code",
   "execution_count": 41,
   "metadata": {},
   "outputs": [],
   "source": [
    "class ExpectSARSAAgent:\n",
    "    def __init__(self,env,gamma=0.9,learning_rate=0.1,epsilon=0.01):\n",
    "        self.gamma=gamma\n",
    "        self.learning_rate=learning_rate\n",
    "        self.epsilon=epsilon\n",
    "        self.action_n=env.action_space.n\n",
    "        self.q=np.zeros(shape=(env.observation_space.n,env.action_space.n))\n",
    "\n",
    "    def decides(self,state):\n",
    "        if np.random.uniform() < self.epsilon:\n",
    "            action=np.random.randint(self.action_n)\n",
    "        else:\n",
    "            action=self.q[state].argmax()\n",
    "        return action\n",
    "\n",
    "    def learn(self,observation,action,reward,done,next_observation):\n",
    "        v=self.q[next_observation].mean()*self.epsilon+self.q[next_observation].max()*(1.-self.epsilon)\n",
    "        u=reward+self.gamma*v*(1.-done)\n",
    "        td_error=u-self.q[observation,action]\n",
    "        self.q[observation,action] += self.learning_rate*td_error"
   ]
  },
  {
   "cell_type": "markdown",
   "metadata": {},
   "source": [
    "### 5-7 Q学习智能体与环境的交互"
   ]
  },
  {
   "cell_type": "code",
   "execution_count": 47,
   "metadata": {},
   "outputs": [],
   "source": [
    "def playQlearning(env,agent,learn=False,render=False):\n",
    "    total_rewards=0\n",
    "    observation=env.reset()\n",
    "    while 1:\n",
    "        if render:\n",
    "            env.render()\n",
    "        action=agent.decides(observation)\n",
    "        next_observation,reward,done,info=env.step(action)\n",
    "        total_rewards += reward\n",
    "        if learn:\n",
    "            agent.learn(observation,action,reward,done,next_observation)\n",
    "        if done:\n",
    "            break\n",
    "        observation=next_observation\n",
    "    return total_rewards"
   ]
  },
  {
   "cell_type": "markdown",
   "metadata": {},
   "source": [
    "### 5-8 训练期望SARSA算法"
   ]
  },
  {
   "cell_type": "code",
   "execution_count": 62,
   "metadata": {},
   "outputs": [
    {
     "data": {
      "image/png": "[encoded data removed]",
      "text/plain": [
       "<Figure size 432x288 with 1 Axes>"
      ]
     },
     "metadata": {
      "needs_background": "light"
     },
     "output_type": "display_data"
    }
   ],
   "source": [
    "env=gym.make('Taxi-v3')\n",
    "agent=ExpectSARSAAgent(env)\n",
    "turns=5000\n",
    "episode_rewards=[]\n",
    "for turn in range(turns):\n",
    "    \n",
    "    if turn<turns-5:\n",
    "        episode_reward=playQlearning(env,agent,learn=True)\n",
    "    else:\n",
    "        episode_reward=playQlearning(env,agent,learn=True,render=True)\n",
    "    '''\n",
    "    episode_reward=playQlearning(env,agent,learn=True)\n",
    "    '''\n",
    "    episode_rewards.append(episode_reward)\n",
    "plt.plot(episode_rewards)\n",
    "env.close()"
   ]
  },
  {
   "cell_type": "markdown",
   "metadata": {},
   "source": [
    "### 5-9 测试期望SARSA算法"
   ]
  },
  {
   "cell_type": "code",
   "execution_count": 63,
   "metadata": {},
   "outputs": [
    {
     "name": "stdout",
     "output_type": "stream",
     "text": [
      "平均回合奖励=800/100=8.0\n"
     ]
    }
   ],
   "source": [
    "agent.epsilon=0\n",
    "episode_rewards=[playQlearning(env,agent) for _ in range(100)]\n",
    "print('平均回合奖励={}/{}={}'.format(sum(episode_rewards),len(episode_rewards),np.mean(episode_rewards)))"
   ]
  },
  {
   "cell_type": "markdown",
   "metadata": {},
   "source": [
    "### 5-9 Q学习智能体类"
   ]
  },
  {
   "cell_type": "code",
   "execution_count": 68,
   "metadata": {},
   "outputs": [],
   "source": [
    "class QlearningAgent:\n",
    "    def __init__(self,env,gamma=0.9,epsilon=0.01,learning_rate=0.1):\n",
    "        self.learning_rate=learning_rate\n",
    "        self.epsilon=epsilon\n",
    "        self.gamma=gamma\n",
    "        self.action_n=env.action_space.n\n",
    "        self.q=np.zeros(shape=(env.observation_space.n,env.action_space.n))\n",
    "\n",
    "    def decides(self,state):\n",
    "        if np.random.uniform()<self.epsilon:\n",
    "            action=np.random.randint(self.action_n)\n",
    "        else:\n",
    "            action=self.q[state].argmax()\n",
    "        return action\n",
    "    def learn(self,state,action,reward,done,next_state):\n",
    "        u=reward+self.gamma*self.q[next_state].max()*(1.-done)\n",
    "        td_error=u-self.q[state,action]\n",
    "        self.q[state,action] += self.learning_rate*td_error"
   ]
  },
  {
   "cell_type": "code",
   "execution_count": 69,
   "metadata": {},
   "outputs": [
    {
     "name": "stderr",
     "output_type": "stream",
     "text": [
      "/home/zlz/anaconda3/envs/RL_gym/lib/python3.9/site-packages/gym/core.py:57: DeprecationWarning: \u001b[33mWARN: You are calling render method, but you didn't specified the argument render_mode at environment initialization. To maintain backward compatibility, the environment will render in human mode.\n",
      "If you want to render in human mode, initialize the environment in this way: gym.make('EnvName', render_mode='human') and don't call the render method.\n",
      "See here for more information: https://www.gymlibrary.ml/content/api/\u001b[0m\n",
      "  deprecation(\n"
     ]
    },
    {
     "data": {
      "image/png": "[encoded data removed]",
      "text/plain": [
       "<Figure size 432x288 with 1 Axes>"
      ]
     },
     "metadata": {
      "needs_background": "light"
     },
     "output_type": "display_data"
    }
   ],
   "source": [
    "#训练Q学习\n",
    "env=gym.make('Taxi-v3')\n",
    "agent=QlearningAgent(env)\n",
    "turns=5000\n",
    "episode_rewards=[]\n",
    "for turn in range(turns):\n",
    "    \n",
    "    if turn<turns-5:\n",
    "        episode_reward=playQlearning(env,agent,learn=True)\n",
    "    else:\n",
    "        episode_reward=playQlearning(env,agent,learn=True,render=True)\n",
    "    episode_rewards.append(episode_reward)\n",
    "plt.plot(episode_rewards)\n",
    "env.close()\n",
    "    "
   ]
  },
  {
   "cell_type": "code",
   "execution_count": 71,
   "metadata": {},
   "outputs": [
    {
     "name": "stdout",
     "output_type": "stream",
     "text": [
      "平均回合奖励=848/100=8.48\n"
     ]
    }
   ],
   "source": [
    "# 测试Q学习\n",
    "agent.epsilon=0\n",
    "episode_rewards=[playQlearning(env,agent) for _ in range(100)]\n",
    "print('平均回合奖励={}/{}={}'.format(sum(episode_rewards),len(episode_rewards),np.mean(episode_rewards)))"
   ]
  },
  {
   "cell_type": "markdown",
   "metadata": {},
   "source": [
    "### 5-11 双重Q学习智能体类"
   ]
  },
  {
   "cell_type": "code",
   "execution_count": 82,
   "metadata": {},
   "outputs": [],
   "source": [
    "class DoubleQlearningAgent:\n",
    "    def __init__(self,env,gamma=0.9,learning_rate=0.1,epsilon=0.01):\n",
    "        self.gamma=gamma\n",
    "        self.learning_rate=learning_rate\n",
    "        self.epsilon=epsilon\n",
    "        self.action_n=env.action_space.n\n",
    "        self.q0=np.zeros(shape=(env.observation_space.n,env.action_space.n))\n",
    "        self.q1=np.zeros(shape=(env.observation_space.n,env.action_space.n))\n",
    "    def decides(self,state):\n",
    "        if np.random.uniform()<self.epsilon:\n",
    "            action=np.random.randint(self.action_n)\n",
    "        else:\n",
    "            action=(self.q0+self.q1)[state].argmax()\n",
    "        return action\n",
    "    \n",
    "    def learn(self,state,action,reward,done,next_state):\n",
    "        if np.random.randint(2):\n",
    "            self.q0,self.q1=self.q1,self.q0\n",
    "        a=self.q0[next_state].argmax()\n",
    "        u=reward+self.gamma*self.q1[next_state,a]*(1.-done)\n",
    "        td_error=u-self.q0[state,action]\n",
    "        self.q0[state,action] += self.learning_rate*td_error\n"
   ]
  },
  {
   "cell_type": "code",
   "execution_count": 85,
   "metadata": {},
   "outputs": [
    {
     "data": {
      "image/png": "[encoded data removed]",
      "text/plain": [
       "<Figure size 432x288 with 1 Axes>"
      ]
     },
     "metadata": {
      "needs_background": "light"
     },
     "output_type": "display_data"
    }
   ],
   "source": [
    "# 训练双重Q学习\n",
    "env=gym.make('Taxi-v3')\n",
    "agent=DoubleQlearningAgent(env)\n",
    "turns=5000\n",
    "episode_rewards=[]\n",
    "for turn in range(turns):\n",
    "    \n",
    "    if turn<turns-5:\n",
    "        episode_reward=playQlearning(env,agent,learn=True)\n",
    "    else:\n",
    "        episode_reward=playQlearning(env,agent,learn=True,render=True)\n",
    "    episode_rewards.append(episode_reward)\n",
    "plt.plot(episode_rewards)\n",
    "env.close()\n",
    "    "
   ]
  },
  {
   "cell_type": "code",
   "execution_count": 84,
   "metadata": {},
   "outputs": [
    {
     "name": "stdout",
     "output_type": "stream",
     "text": [
      "平均回合奖励=-1924/100=-19.24\n"
     ]
    }
   ],
   "source": [
    "# 测试双重Q学习\n",
    "agent.epsilon=0\n",
    "episode_rewards=[playQlearning(env,agent) for _ in range(100)]\n",
    "print('平均回合奖励={}/{}={}'.format(sum(episode_rewards),len(episode_rewards),np.mean(episode_rewards)))"
   ]
  },
  {
   "cell_type": "markdown",
   "metadata": {},
   "source": [
    "### 5-12 SARSA($\\lambda$)算法智能体类"
   ]
  },
  {
   "cell_type": "code",
   "execution_count": 96,
   "metadata": {},
   "outputs": [],
   "source": [
    "class SARSALambdaAgent():\n",
    "    def __init__(self,env,lambd=0.5,beta=1.,learning_rate=0.1,gamma=0.9,epsilon=0.01):\n",
    "        self.gamma=gamma\n",
    "        self.learning_rate=learning_rate\n",
    "        self.epsilon=epsilon\n",
    "        self.lambd=lambd\n",
    "        self.beta=beta\n",
    "        self.e=np.zeros(shape=(env.observation_space.n,env.action_space.n))\n",
    "        self.q=np.zeros(shape=(env.observation_space.n,env.action_space.n))\n",
    "        self.action_n=env.action_space.n\n",
    "    def decides(self,state):\n",
    "        if np.random.uniform() < self.epsilon:\n",
    "            action=np.random.randint(self.action_n)\n",
    "        else:\n",
    "            action=self.q[state].argmax()\n",
    "        return action\n",
    "    def learn(self,state,action,next_state,next_action,reward,done):\n",
    "        #更新资格迹\n",
    "        self.e *= self.lambd*self.gamma\n",
    "        self.e[state,action]=1.+self.beta*self.e[state,action]\n",
    "        #更新价值\n",
    "        u=reward+self.gamma*self.q[next_state,next_action]*(1.-done)\n",
    "        td_error=u-self.q[state,action]\n",
    "        self.q += self.learning_rate*self.e*td_error\n",
    "        # 为下一回和初始化资格迹\n",
    "        if done:\n",
    "            self.e *= 0."
   ]
  },
  {
   "cell_type": "code",
   "execution_count": 97,
   "metadata": {},
   "outputs": [
    {
     "name": "stderr",
     "output_type": "stream",
     "text": [
      "/home/zlz/anaconda3/envs/RL_gym/lib/python3.9/site-packages/gym/core.py:329: DeprecationWarning: \u001b[33mWARN: Initializing wrapper in old step API which returns one bool instead of two. It is recommended to set `new_step_api=True` to use new step API. This will be the default behaviour in future.\u001b[0m\n",
      "  deprecation(\n",
      "/home/zlz/anaconda3/envs/RL_gym/lib/python3.9/site-packages/gym/wrappers/step_api_compatibility.py:39: DeprecationWarning: \u001b[33mWARN: Initializing environment in old step API which returns one bool instead of two. It is recommended to set `new_step_api=True` to use new step API. This will be the default behaviour in future.\u001b[0m\n",
      "  deprecation(\n",
      "/home/zlz/anaconda3/envs/RL_gym/lib/python3.9/site-packages/gym/core.py:57: DeprecationWarning: \u001b[33mWARN: You are calling render method, but you didn't specified the argument render_mode at environment initialization. To maintain backward compatibility, the environment will render in human mode.\n",
      "If you want to render in human mode, initialize the environment in this way: gym.make('EnvName', render_mode='human') and don't call the render method.\n",
      "See here for more information: https://www.gymlibrary.ml/content/api/\u001b[0m\n",
      "  deprecation(\n"
     ]
    },
    {
     "data": {
      "image/png": "[encoded data removed]",
      "text/plain": [
       "<Figure size 432x288 with 1 Axes>"
      ]
     },
     "metadata": {
      "needs_background": "light"
     },
     "output_type": "display_data"
    }
   ],
   "source": [
    "# 训练SARSALambda\n",
    "env=gym.make('Taxi-v3')\n",
    "agent=SARSALambdaAgent(env)\n",
    "turns=5000\n",
    "episode_rewards=[]\n",
    "for turn in range(turns):\n",
    "    if turn<turns-5:\n",
    "        episode_reward=play_sarsa(env,agent,train=True)\n",
    "    else:\n",
    "        episode_reward=play_sarsa(env,agent,train=True,render=True)\n",
    "    episode_rewards.append(episode_reward)\n",
    "plt.plot(episode_rewards)\n",
    "env.close()"
   ]
  },
  {
   "cell_type": "code",
   "execution_count": 98,
   "metadata": {},
   "outputs": [
    {
     "name": "stdout",
     "output_type": "stream",
     "text": [
      "平均回合奖励=748/100=7.48\n"
     ]
    }
   ],
   "source": [
    "# 测试SARSALambda\n",
    "agent.epsilon=0\n",
    "episode_rewards=[playQlearning(env,agent) for _ in range(100)]\n",
    "print('平均回合奖励={}/{}={}'.format(sum(episode_rewards),len(episode_rewards),np.mean(episode_rewards)))"
   ]
  },
  {
   "cell_type": "code",
   "execution_count": null,
   "metadata": {},
   "outputs": [],
   "source": []
  }
 ],
 "metadata": {
  "interpreter": {
   "hash": "96fe68e87a7221abbdde5a167c69e255bd65f0b953354e27bd89f804004e785f"
  },
  "kernelspec": {
   "display_name": "Python 3.9.12 ('RL_gym')",
   "language": "python",
   "name": "python3"
  },
  "language_info": {
   "codemirror_mode": {
    "name": "ipython",
    "version": 3
   },
   "file_extension": ".py",
   "mimetype": "text/x-python",
   "name": "python",
   "nbconvert_exporter": "python",
   "pygments_lexer": "ipython3",
   "version": "3.9.12"
  },
  "orig_nbformat": 4
 },
 "nbformat": 4,
 "nbformat_minor": 2
}
