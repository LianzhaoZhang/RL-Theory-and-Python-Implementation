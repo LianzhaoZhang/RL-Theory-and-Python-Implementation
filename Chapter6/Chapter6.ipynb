{
 "cells": [
  {
   "cell_type": "code",
   "execution_count": 34,
   "metadata": {},
   "outputs": [],
   "source": [
    "import gym\n",
    "from matplotlib import pyplot as plt\n",
    "import numpy as np\n",
    "import time"
   ]
  },
  {
   "cell_type": "code",
   "execution_count": 36,
   "metadata": {},
   "outputs": [],
   "source": [
    "env=gym.make('MountainCar-v0')"
   ]
  },
  {
   "cell_type": "code",
   "execution_count": 37,
   "metadata": {},
   "outputs": [
    {
     "name": "stdout",
     "output_type": "stream",
     "text": [
      "观测空间=Box([-1.2  -0.07], [0.6  0.07], (2,), float32)\n",
      "[-1.2  -0.07] [0.6  0.07]\n",
      "动作空间=Discrete(3)\n",
      "位置范围=(-1.2, 0.6)\n",
      "速度范围=(-0.07, 0.07)\n",
      "目标位置=0.5\n"
     ]
    }
   ],
   "source": [
    "# 显示一般环境信息\n",
    "print('观测空间={}'.format(env.observation_space))\n",
    "print(env.observation_space.low,env.observation_space.high)\n",
    "print('动作空间={}'.format(env.action_space))\n",
    "print('位置范围={}'.format((env.min_position,env.max_position)))\n",
    "print('速度范围={}'.format((-env.max_speed,env.max_speed)))\n",
    "print('目标位置={}'.format(env.goal_position))"
   ]
  },
  {
   "cell_type": "markdown",
   "metadata": {},
   "source": [
    "### 6-2 总是向右施加力的智能体"
   ]
  },
  {
   "cell_type": "code",
   "execution_count": 24,
   "metadata": {},
   "outputs": [
    {
     "name": "stderr",
     "output_type": "stream",
     "text": [
      "/home/zlz/anaconda3/envs/RL_gym/lib/python3.9/site-packages/gym/core.py:57: DeprecationWarning: \u001b[33mWARN: You are calling render method, but you didn't specified the argument render_mode at environment initialization. To maintain backward compatibility, the environment will render in human mode.\n",
      "If you want to render in human mode, initialize the environment in this way: gym.make('EnvName', render_mode='human') and don't call the render method.\n",
      "See here for more information: https://www.gymlibrary.ml/content/api/\u001b[0m\n",
      "  deprecation(\n"
     ]
    },
    {
     "name": "stdout",
     "output_type": "stream",
     "text": [
      "shibai\n",
      "-200.0\n"
     ]
    },
    {
     "name": "stderr",
     "output_type": "stream",
     "text": [
      "/tmp/ipykernel_9934/1845608192.py:23: UserWarning: Matplotlib is currently using module://matplotlib_inline.backend_inline, which is a non-GUI backend, so cannot show the figure.\n",
      "  fig.show();\n"
     ]
    },
    {
     "data": {
      "image/png": "[encoded data removed]",
      "text/plain": [
       "<Figure size 432x288 with 1 Axes>"
      ]
     },
     "metadata": {
      "needs_background": "light"
     },
     "output_type": "display_data"
    }
   ],
   "source": [
    "\n",
    "positions,volicities=[],[]\n",
    "observation=env.reset()\n",
    "total_reward=0\n",
    "while 1:\n",
    "    env.render()\n",
    "    positions.append(observation[0])\n",
    "    volicities.append(observation[1])\n",
    "    next_observation,reward,done,info=env.step(2)\n",
    "    total_reward += reward\n",
    "    if done:\n",
    "        break\n",
    "    observation=next_observation\n",
    "if next_observation[0]>0.5:\n",
    "    print('成功')\n",
    "else:\n",
    "    print('shibai')\n",
    "env.close()\n",
    "print(total_reward)\n",
    "fig,ax=plt.subplots()\n",
    "ax.plot(positions,label='position')\n",
    "ax.plot(volicities,label='volicity')\n",
    "ax.legend()\n",
    "fig.show();"
   ]
  },
  {
   "cell_type": "markdown",
   "metadata": {},
   "source": [
    "### 6-3 砖瓦编码的实现"
   ]
  },
  {
   "cell_type": "code",
   "execution_count": 38,
   "metadata": {},
   "outputs": [],
   "source": [
    "class TileCoder:\n",
    "    def __init__(self,layers,features):\n",
    "        self.layers=layers\n",
    "        self.features=features\n",
    "        self.codebook={}\n",
    "    \n",
    "    def get_feature(self,codeword):\n",
    "        if codeword in self.codebook:\n",
    "            return self.codebook[codeword]\n",
    "        count=len(self.codebook)\n",
    "        if count>=self.features:\n",
    "            return hash(codeword)\n",
    "        else:\n",
    "            self.codebook[codeword]=count\n",
    "        return count\n",
    "    \n",
    "    def __call__(self,floats=(),ints=()):\n",
    "        dim=len(floats)\n",
    "        scaled_floats=tuple(f*self.layers*self.layers for f in floats)\n",
    "        features=[]\n",
    "        for layer in range(self.layers):\n",
    "            codeword=(layer,)+tuple(int((f+(1+dim*i)*layer)/self.layers) for i,f in enumerate(scaled_floats)) + ints\n",
    "            feature = self.get_feature(codeword)\n",
    "            features.append(feature)\n",
    "        return features\n"
   ]
  },
  {
   "cell_type": "markdown",
   "metadata": {},
   "source": [
    "### 6-4 函数近似SARSA算法智能体"
   ]
  },
  {
   "cell_type": "code",
   "execution_count": 39,
   "metadata": {},
   "outputs": [],
   "source": [
    "class SARSAAgent:\n",
    "    def __init__(self,env,gamma=0.9,learning_rate=0.1,epsilon=0.01,layers=8,features=1893):\n",
    "        self.gamma=gamma#折扣\n",
    "        self.learning_rate=learning_rate#学习率\n",
    "        self.epsilon=epsilon#探索\n",
    "        self.action_n=env.action_space.n#动作数\n",
    "        self.obs_low=env.observation_space.low\n",
    "        self.obs_scale=env.observation_space.high-env.observation_space.low#观测空间范围\n",
    "        self.encoder=TileCoder(layers,features)#砖瓦编码器\n",
    "        self.w=np.zeros(features)#权重\n",
    "    \n",
    "    def encode(self,observation,action): # 编码\n",
    "        states=tuple((observation-self.obs_low)/self.obs_scale)\n",
    "        actions=tuple(action,)\n",
    "        return self.encoder(states,actions)\n",
    "    \n",
    "    def get_q(self,observation,action): #动作价值\n",
    "        features=self.encode(observation,action)\n",
    "        return self.w[features].sum()\n",
    "\n",
    "    def decide(self,observation): #决策\n",
    "        if np.random.rand()<self.epsilon:\n",
    "            return np.random.randint(self.action_n)\n",
    "        else:\n",
    "            qs=[self.get_q(observation,action) for action in range(self.action_n)]\n",
    "            return np.argmax(qs)\n",
    "    \n",
    "    def learn(self,observation,action,reward,done,next_observation,next_action):# 学习\n",
    "        u=reward+self.gamma*self.get_q(next_observation,next_action)*(1.-done)\n",
    "        td_error=u-self.get_q(observation,action)\n",
    "        features=self.encode(observation,action)\n",
    "        self.w[features] += td_error*self.learning_rate\n",
    "        "
   ]
  },
  {
   "cell_type": "code",
   "execution_count": 40,
   "metadata": {},
   "outputs": [],
   "source": [
    "def play_SARSA(env,agent,train=False,render=False):\n",
    "    total_reward=0\n",
    "    observation=env.reset()\n",
    "    while True:\n",
    "        if render:\n",
    "            env.render()\n",
    "        action=agent.decide(observation)\n",
    "        next_observation,reward,done,info=env.step(action)\n",
    "        total_reward += reward\n",
    "        next_action=agent.decide(next_observation)\n",
    "        if train:\n",
    "            agent.learn(observation,action,reward,done,next_observation,next_action)\n",
    "        if done:\n",
    "            break\n",
    "        observation,action=next_observation,next_action\n",
    "    return total_reward"
   ]
  },
  {
   "cell_type": "code",
   "execution_count": 41,
   "metadata": {},
   "outputs": [
    {
     "ename": "TypeError",
     "evalue": "'int' object is not iterable",
     "output_type": "error",
     "traceback": [
      "\u001b[0;31m---------------------------------------------------------------------------\u001b[0m",
      "\u001b[0;31mTypeError\u001b[0m                                 Traceback (most recent call last)",
      "\u001b[1;32m/home/zlz/desktop/RL Theory and Python Implementation/Chapter6/Chapter6.ipynb Cell 11'\u001b[0m in \u001b[0;36m<cell line: 5>\u001b[0;34m()\u001b[0m\n\u001b[1;32m      <a href='vscode-notebook-cell:/home/zlz/desktop/RL%20Theory%20and%20Python%20Implementation/Chapter6/Chapter6.ipynb#ch0000010?line=3'>4</a>\u001b[0m episode_rewards\u001b[39m=\u001b[39m[]\n\u001b[1;32m      <a href='vscode-notebook-cell:/home/zlz/desktop/RL%20Theory%20and%20Python%20Implementation/Chapter6/Chapter6.ipynb#ch0000010?line=4'>5</a>\u001b[0m \u001b[39mfor\u001b[39;00m episode \u001b[39min\u001b[39;00m \u001b[39mrange\u001b[39m(episodes):\n\u001b[0;32m----> <a href='vscode-notebook-cell:/home/zlz/desktop/RL%20Theory%20and%20Python%20Implementation/Chapter6/Chapter6.ipynb#ch0000010?line=5'>6</a>\u001b[0m     episode_reward\u001b[39m=\u001b[39mplay_SARSA(env,agent,train\u001b[39m=\u001b[39;49m\u001b[39mTrue\u001b[39;49;00m)\n\u001b[1;32m      <a href='vscode-notebook-cell:/home/zlz/desktop/RL%20Theory%20and%20Python%20Implementation/Chapter6/Chapter6.ipynb#ch0000010?line=6'>7</a>\u001b[0m     episode_rewards\u001b[39m.\u001b[39mappend(episode_reward)\n\u001b[1;32m      <a href='vscode-notebook-cell:/home/zlz/desktop/RL%20Theory%20and%20Python%20Implementation/Chapter6/Chapter6.ipynb#ch0000010?line=7'>8</a>\u001b[0m env\u001b[39m.\u001b[39mclose()\n",
      "\u001b[1;32m/home/zlz/desktop/RL Theory and Python Implementation/Chapter6/Chapter6.ipynb Cell 10'\u001b[0m in \u001b[0;36mplay_SARSA\u001b[0;34m(env, agent, train, render)\u001b[0m\n\u001b[1;32m      <a href='vscode-notebook-cell:/home/zlz/desktop/RL%20Theory%20and%20Python%20Implementation/Chapter6/Chapter6.ipynb#ch0000009?line=4'>5</a>\u001b[0m \u001b[39mif\u001b[39;00m render:\n\u001b[1;32m      <a href='vscode-notebook-cell:/home/zlz/desktop/RL%20Theory%20and%20Python%20Implementation/Chapter6/Chapter6.ipynb#ch0000009?line=5'>6</a>\u001b[0m     env\u001b[39m.\u001b[39mrender()\n\u001b[0;32m----> <a href='vscode-notebook-cell:/home/zlz/desktop/RL%20Theory%20and%20Python%20Implementation/Chapter6/Chapter6.ipynb#ch0000009?line=6'>7</a>\u001b[0m action\u001b[39m=\u001b[39magent\u001b[39m.\u001b[39;49mdecide(observation)\n\u001b[1;32m      <a href='vscode-notebook-cell:/home/zlz/desktop/RL%20Theory%20and%20Python%20Implementation/Chapter6/Chapter6.ipynb#ch0000009?line=7'>8</a>\u001b[0m next_observation,reward,done,info\u001b[39m=\u001b[39menv\u001b[39m.\u001b[39mstep(action)\n\u001b[1;32m      <a href='vscode-notebook-cell:/home/zlz/desktop/RL%20Theory%20and%20Python%20Implementation/Chapter6/Chapter6.ipynb#ch0000009?line=8'>9</a>\u001b[0m total_reward \u001b[39m+\u001b[39m\u001b[39m=\u001b[39m reward\n",
      "\u001b[1;32m/home/zlz/desktop/RL Theory and Python Implementation/Chapter6/Chapter6.ipynb Cell 9'\u001b[0m in \u001b[0;36mSARSAAgent.decide\u001b[0;34m(self, observation)\u001b[0m\n\u001b[1;32m     <a href='vscode-notebook-cell:/home/zlz/desktop/RL%20Theory%20and%20Python%20Implementation/Chapter6/Chapter6.ipynb#ch0000006?line=22'>23</a>\u001b[0m     \u001b[39mreturn\u001b[39;00m np\u001b[39m.\u001b[39mrandom\u001b[39m.\u001b[39mrandint(\u001b[39mself\u001b[39m\u001b[39m.\u001b[39maction_n)\n\u001b[1;32m     <a href='vscode-notebook-cell:/home/zlz/desktop/RL%20Theory%20and%20Python%20Implementation/Chapter6/Chapter6.ipynb#ch0000006?line=23'>24</a>\u001b[0m \u001b[39melse\u001b[39;00m:\n\u001b[0;32m---> <a href='vscode-notebook-cell:/home/zlz/desktop/RL%20Theory%20and%20Python%20Implementation/Chapter6/Chapter6.ipynb#ch0000006?line=24'>25</a>\u001b[0m     qs\u001b[39m=\u001b[39m[\u001b[39mself\u001b[39m\u001b[39m.\u001b[39mget_q(observation,action) \u001b[39mfor\u001b[39;00m action \u001b[39min\u001b[39;00m \u001b[39mrange\u001b[39m(\u001b[39mself\u001b[39m\u001b[39m.\u001b[39maction_n)]\n\u001b[1;32m     <a href='vscode-notebook-cell:/home/zlz/desktop/RL%20Theory%20and%20Python%20Implementation/Chapter6/Chapter6.ipynb#ch0000006?line=25'>26</a>\u001b[0m     \u001b[39mreturn\u001b[39;00m np\u001b[39m.\u001b[39margmax(qs)\n",
      "\u001b[1;32m/home/zlz/desktop/RL Theory and Python Implementation/Chapter6/Chapter6.ipynb Cell 9'\u001b[0m in \u001b[0;36m<listcomp>\u001b[0;34m(.0)\u001b[0m\n\u001b[1;32m     <a href='vscode-notebook-cell:/home/zlz/desktop/RL%20Theory%20and%20Python%20Implementation/Chapter6/Chapter6.ipynb#ch0000006?line=22'>23</a>\u001b[0m     \u001b[39mreturn\u001b[39;00m np\u001b[39m.\u001b[39mrandom\u001b[39m.\u001b[39mrandint(\u001b[39mself\u001b[39m\u001b[39m.\u001b[39maction_n)\n\u001b[1;32m     <a href='vscode-notebook-cell:/home/zlz/desktop/RL%20Theory%20and%20Python%20Implementation/Chapter6/Chapter6.ipynb#ch0000006?line=23'>24</a>\u001b[0m \u001b[39melse\u001b[39;00m:\n\u001b[0;32m---> <a href='vscode-notebook-cell:/home/zlz/desktop/RL%20Theory%20and%20Python%20Implementation/Chapter6/Chapter6.ipynb#ch0000006?line=24'>25</a>\u001b[0m     qs\u001b[39m=\u001b[39m[\u001b[39mself\u001b[39;49m\u001b[39m.\u001b[39;49mget_q(observation,action) \u001b[39mfor\u001b[39;00m action \u001b[39min\u001b[39;00m \u001b[39mrange\u001b[39m(\u001b[39mself\u001b[39m\u001b[39m.\u001b[39maction_n)]\n\u001b[1;32m     <a href='vscode-notebook-cell:/home/zlz/desktop/RL%20Theory%20and%20Python%20Implementation/Chapter6/Chapter6.ipynb#ch0000006?line=25'>26</a>\u001b[0m     \u001b[39mreturn\u001b[39;00m np\u001b[39m.\u001b[39margmax(qs)\n",
      "\u001b[1;32m/home/zlz/desktop/RL Theory and Python Implementation/Chapter6/Chapter6.ipynb Cell 9'\u001b[0m in \u001b[0;36mSARSAAgent.get_q\u001b[0;34m(self, observation, action)\u001b[0m\n\u001b[1;32m     <a href='vscode-notebook-cell:/home/zlz/desktop/RL%20Theory%20and%20Python%20Implementation/Chapter6/Chapter6.ipynb#ch0000006?line=16'>17</a>\u001b[0m \u001b[39mdef\u001b[39;00m \u001b[39mget_q\u001b[39m(\u001b[39mself\u001b[39m,observation,action): \u001b[39m#动作价值\u001b[39;00m\n\u001b[0;32m---> <a href='vscode-notebook-cell:/home/zlz/desktop/RL%20Theory%20and%20Python%20Implementation/Chapter6/Chapter6.ipynb#ch0000006?line=17'>18</a>\u001b[0m     features\u001b[39m=\u001b[39m\u001b[39mself\u001b[39;49m\u001b[39m.\u001b[39;49mencode(observation,action)\n\u001b[1;32m     <a href='vscode-notebook-cell:/home/zlz/desktop/RL%20Theory%20and%20Python%20Implementation/Chapter6/Chapter6.ipynb#ch0000006?line=18'>19</a>\u001b[0m     \u001b[39mreturn\u001b[39;00m \u001b[39mself\u001b[39m\u001b[39m.\u001b[39mw[features]\u001b[39m.\u001b[39msum()\n",
      "\u001b[1;32m/home/zlz/desktop/RL Theory and Python Implementation/Chapter6/Chapter6.ipynb Cell 9'\u001b[0m in \u001b[0;36mSARSAAgent.encode\u001b[0;34m(self, observation, action)\u001b[0m\n\u001b[1;32m     <a href='vscode-notebook-cell:/home/zlz/desktop/RL%20Theory%20and%20Python%20Implementation/Chapter6/Chapter6.ipynb#ch0000006?line=11'>12</a>\u001b[0m \u001b[39mdef\u001b[39;00m \u001b[39mencode\u001b[39m(\u001b[39mself\u001b[39m,observation,action): \u001b[39m# 编码\u001b[39;00m\n\u001b[1;32m     <a href='vscode-notebook-cell:/home/zlz/desktop/RL%20Theory%20and%20Python%20Implementation/Chapter6/Chapter6.ipynb#ch0000006?line=12'>13</a>\u001b[0m     states\u001b[39m=\u001b[39m\u001b[39mtuple\u001b[39m((observation\u001b[39m-\u001b[39m\u001b[39mself\u001b[39m\u001b[39m.\u001b[39mobs_low)\u001b[39m/\u001b[39m\u001b[39mself\u001b[39m\u001b[39m.\u001b[39mobs_scale)\n\u001b[0;32m---> <a href='vscode-notebook-cell:/home/zlz/desktop/RL%20Theory%20and%20Python%20Implementation/Chapter6/Chapter6.ipynb#ch0000006?line=13'>14</a>\u001b[0m     actions\u001b[39m=\u001b[39m\u001b[39mtuple\u001b[39;49m(action,)\n\u001b[1;32m     <a href='vscode-notebook-cell:/home/zlz/desktop/RL%20Theory%20and%20Python%20Implementation/Chapter6/Chapter6.ipynb#ch0000006?line=14'>15</a>\u001b[0m     \u001b[39mreturn\u001b[39;00m \u001b[39mself\u001b[39m\u001b[39m.\u001b[39mencoder(states,actions)\n",
      "\u001b[0;31mTypeError\u001b[0m: 'int' object is not iterable"
     ]
    }
   ],
   "source": [
    "env=gym.make('MountainCar-v0')\n",
    "agent=SARSAAgent(env)\n",
    "episodes=5000\n",
    "episode_rewards=[]\n",
    "for episode in range(episodes):\n",
    "    episode_reward=play_SARSA(env,agent,train=True)\n",
    "    episode_rewards.append(episode_reward)\n",
    "env.close()\n",
    "plt.plot(episode_rewards)"
   ]
  },
  {
   "cell_type": "code",
   "execution_count": null,
   "metadata": {},
   "outputs": [],
   "source": []
  }
 ],
 "metadata": {
  "interpreter": {
   "hash": "96fe68e87a7221abbdde5a167c69e255bd65f0b953354e27bd89f804004e785f"
  },
  "kernelspec": {
   "display_name": "Python 3.9.12 ('RL_gym')",
   "language": "python",
   "name": "python3"
  },
  "language_info": {
   "codemirror_mode": {
    "name": "ipython",
    "version": 3
   },
   "file_extension": ".py",
   "mimetype": "text/x-python",
   "name": "python",
   "nbconvert_exporter": "python",
   "pygments_lexer": "ipython3",
   "version": "3.9.12"
  },
  "orig_nbformat": 4
 },
 "nbformat": 4,
 "nbformat_minor": 2
}
