{
 "cells": [
  {
   "cell_type": "code",
   "execution_count": 14,
   "metadata": {},
   "outputs": [
    {
     "name": "stdout",
     "output_type": "stream",
     "text": [
      "{v_hungry: (-alpha*gamma*x*y + 3*alpha*gamma*x - 4*alpha*x + beta*gamma*x*y + 2*beta*gamma*y - gamma*x - 2*gamma + x + 2)/(alpha*gamma**2*x - alpha*gamma*x + beta*gamma**2*y - beta*gamma*y - gamma**2 + 2*gamma - 1), v_full: (-alpha*gamma*x*y - alpha*gamma*x + beta*gamma*x*y - 2*beta*gamma*y + 4*beta*y + gamma*y + gamma - y - 1)/(alpha*gamma**2*x - alpha*gamma*x + beta*gamma**2*y - beta*gamma*y - gamma**2 + 2*gamma - 1), q_hungry_none: (-alpha*gamma**2*x*y + alpha*gamma**2*x - 2*alpha*gamma*x + beta*gamma**2*x*y + 2*beta*gamma*y - gamma**2*x + gamma*x - 2*gamma + 2)/(alpha*gamma**2*x - alpha*gamma*x + beta*gamma**2*y - beta*gamma*y - gamma**2 + 2*gamma - 1), q_hungry_eat: (-alpha*gamma**2*x*y + alpha*gamma**2*x + alpha*gamma**2*y - alpha*gamma**2 - 2*alpha*gamma*x - alpha*gamma*y + 5*alpha*gamma - 4*alpha + beta*gamma**2*x*y - beta*gamma**2*y + 3*beta*gamma*y - gamma**2*x + gamma**2 + gamma*x - 4*gamma + 3)/(alpha*gamma**2*x - alpha*gamma*x + beta*gamma**2*y - beta*gamma*y - gamma**2 + 2*gamma - 1), q_full_none: (-alpha*gamma**2*x*y + alpha*gamma**2*x - 2*alpha*gamma*x + beta*gamma**2*x*y - beta*gamma**2*x - beta*gamma**2*y + beta*gamma**2 + beta*gamma*x + 3*beta*gamma*y - 5*beta*gamma + 4*beta + gamma**2*y - gamma**2 - gamma*y + 3*gamma - 2)/(alpha*gamma**2*x - alpha*gamma*x + beta*gamma**2*y - beta*gamma*y - gamma**2 + 2*gamma - 1), q_full_eat: (-alpha*gamma**2*x*y - alpha*gamma*x + beta*gamma**2*x*y - beta*gamma**2*y + 3*beta*gamma*y + gamma**2*y - gamma*y + gamma - 1)/(alpha*gamma**2*x - alpha*gamma*x + beta*gamma**2*y - beta*gamma*y - gamma**2 + 2*gamma - 1)}\n"
     ]
    }
   ],
   "source": [
    "import sympy\n",
    "from sympy import symbols\n",
    "\n",
    "sympy.init_printing()\n",
    "v_hungry,v_full=symbols('v_hungry v_full')\n",
    "q_hungry_eat,q_hungry_none,q_full_eat,q_full_none=symbols('q_hungry_eat q_hungry_none q_full_eat q_full_none')\n",
    "alpha,beta,x,y,gamma=symbols('alpha beta x y gamma')\n",
    "\n",
    "system=sympy.Matrix((\n",
    "    (1,0,x-1,-x,0,0,0),\n",
    "    (0,1,0,0,-y,y-1,0),\n",
    "    (-gamma,0,1,0,0,0,-2),\n",
    "    ((alpha-1)*gamma,-alpha*gamma,0,1,0,0,4*alpha-3),\n",
    "    (-beta*gamma,(beta-1)*gamma,0,0,1,0,-4*beta+2),\n",
    "    (0,-gamma,0,0,0,1,1)\n",
    "))\n",
    "sol=sympy.solve_linear_system(system,v_hungry,v_full,q_hungry_none,q_hungry_eat,q_full_none,q_full_eat)\n",
    "print(sol)\n",
    "\n"
   ]
  },
  {
   "cell_type": "code",
   "execution_count": 20,
   "metadata": {},
   "outputs": [
    {
     "name": "stdout",
     "output_type": "stream",
     "text": [
      "===v(饿) = q(饿，不吃),v(饱) = q(饱， 吃)====x=0, y=0====\n",
      "{v_hungry: 2/(gamma - 1), v_full: -1/(gamma - 1), q_gungry_none: 2/(gamma - 1), q_hungry_eat: (alpha*gamma - 4*alpha - gamma + 3)/(gamma - 1), q_full_none: (-beta*gamma + 4*beta + gamma - 2)/(gamma - 1), q_full_eat: -1/(gamma - 1)}\n",
      "===v(饿) = q(饿， 吃),v(饱) = q(饱， 吃)====x=1, y=0====\n",
      "{v_hungry: (3*alpha*gamma - 4*alpha - 3*gamma + 3)/(alpha*gamma**2 - alpha*gamma - gamma**2 + 2*gamma - 1), v_full: -1/(gamma - 1), q_gungry_none: (alpha*gamma**2 - 2*alpha*gamma - gamma**2 - gamma + 2)/(alpha*gamma**2 - alpha*gamma - gamma**2 + 2*gamma - 1), q_hungry_eat: (3*alpha*gamma - 4*alpha - 3*gamma + 3)/(alpha*gamma**2 - alpha*gamma - gamma**2 + 2*gamma - 1), q_full_none: (alpha*gamma**2 - 2*alpha*gamma - 4*beta*gamma + 4*beta - gamma**2 + 3*gamma - 2)/(alpha*gamma**2 - alpha*gamma - gamma**2 + 2*gamma - 1), q_full_eat: -1/(gamma - 1)}\n",
      "===v(饿) = q(饿， 吃),v(饱) = q(饱， 吃)====x=1, y=0====\n",
      "{v_hungry: (3*alpha*gamma - 4*alpha - 3*gamma + 3)/(alpha*gamma**2 - alpha*gamma - gamma**2 + 2*gamma - 1), v_full: -1/(gamma - 1), q_gungry_none: (alpha*gamma**2 - 2*alpha*gamma - gamma**2 - gamma + 2)/(alpha*gamma**2 - alpha*gamma - gamma**2 + 2*gamma - 1), q_hungry_eat: (3*alpha*gamma - 4*alpha - 3*gamma + 3)/(alpha*gamma**2 - alpha*gamma - gamma**2 + 2*gamma - 1), q_full_none: (alpha*gamma**2 - 2*alpha*gamma - 4*beta*gamma + 4*beta - gamma**2 + 3*gamma - 2)/(alpha*gamma**2 - alpha*gamma - gamma**2 + 2*gamma - 1), q_full_eat: -1/(gamma - 1)}\n",
      "===v(饿) = q(饿，不吃),v(饱) = q(饱， 吃)====x=0, y=0====\n",
      "{v_hungry: 2/(gamma - 1), v_full: -1/(gamma - 1), q_gungry_none: 2/(gamma - 1), q_hungry_eat: (alpha*gamma - 4*alpha - gamma + 3)/(gamma - 1), q_full_none: (-beta*gamma + 4*beta + gamma - 2)/(gamma - 1), q_full_eat: -1/(gamma - 1)}\n"
     ]
    }
   ],
   "source": [
    "import sympy\n",
    "from sympy import symbols\n",
    "sympy.init_printing()\n",
    "\n",
    "alpha,beta,gamma=symbols('alpha beta gamma')\n",
    "v_full,v_hungry=symbols('v_full v_hungry')\n",
    "q_hungry_eat,q_hungry_none,q_full_eat,q_full_none=symbols('q_hungry_eat q_gungry_none q_full_eat q_full_none')\n",
    "xy_tuples=((0,0),(1,0),(1,0),(0,0))\n",
    "\n",
    "for x,y in xy_tuples:\n",
    "    system=sympy.Matrix((\n",
    "    (1,0,x-1,-x,0,0,0),\n",
    "    (0,1,0,0,-y,y-1,0),\n",
    "    (-gamma,0,1,0,0,0,-2),\n",
    "    ((alpha-1)*gamma,-alpha*gamma,0,1,0,0,4*alpha-3),\n",
    "    (-beta*gamma,(beta-1)*gamma,0,0,1,0,-4*beta+2),\n",
    "    (0,-gamma,0,0,0,1,1)\n",
    "    ))\n",
    "    result=sympy.solve_linear_system(system,v_hungry,v_full,q_hungry_none,q_hungry_eat,q_full_none,q_full_eat)\n",
    "    msgx='v(饿) = q(饿，{}吃)'.format(' ' if x else '不')\n",
    "    msgy='v(饱) = q(饱，{}吃)'.format('不' if y else ' ')\n",
    "    print('==={},{}====x={}, y={}===='.format(msgx,msgy,x,y))\n",
    "    print(result)\n",
    "    "
   ]
  },
  {
   "cell_type": "code",
   "execution_count": 19,
   "metadata": {},
   "outputs": [
    {
     "name": "stdout",
     "output_type": "stream",
     "text": [
      "[[1 1 1 1 1 1 1 2]\n",
      " [1 1 1 1 1 1 1 2]\n",
      " [1 1 1 1 1 1 1 2]\n",
      " [0 0 0 0 0 0 0 2]]\n",
      "==========\n",
      "[1 1 1 1 1 1 1 2 1 1 1 1 1 1 1 2 1 1 1 1 1 1 1 2 0 0 0 0 0 0 0 2]\n",
      "==========\n",
      "[[0. 1. 0. 0.]\n",
      " [0. 1. 0. 0.]\n",
      " [0. 1. 0. 0.]\n",
      " [0. 1. 0. 0.]\n",
      " [0. 1. 0. 0.]\n",
      " [0. 1. 0. 0.]\n",
      " [0. 1. 0. 0.]\n",
      " [0. 0. 1. 0.]\n",
      " [0. 1. 0. 0.]\n",
      " [0. 1. 0. 0.]\n",
      " [0. 1. 0. 0.]\n",
      " [0. 1. 0. 0.]\n",
      " [0. 1. 0. 0.]\n",
      " [0. 1. 0. 0.]\n",
      " [0. 1. 0. 0.]\n",
      " [0. 0. 1. 0.]\n",
      " [0. 1. 0. 0.]\n",
      " [0. 1. 0. 0.]\n",
      " [0. 1. 0. 0.]\n",
      " [0. 1. 0. 0.]\n",
      " [0. 1. 0. 0.]\n",
      " [0. 1. 0. 0.]\n",
      " [0. 1. 0. 0.]\n",
      " [0. 0. 1. 0.]\n",
      " [1. 0. 0. 0.]\n",
      " [1. 0. 0. 0.]\n",
      " [1. 0. 0. 0.]\n",
      " [1. 0. 0. 0.]\n",
      " [1. 0. 0. 0.]\n",
      " [1. 0. 0. 0.]\n",
      " [1. 0. 0. 0.]\n",
      " [0. 0. 1. 0.]]\n",
      "==========\n"
     ]
    }
   ],
   "source": [
    "import numpy as np\n",
    "actions = np.ones(shape=[4,8],dtype=int)\n",
    "actions[-1,:]=0\n",
    "actions[:,-1]=2\n",
    "optimal_policy=np.eye(4)[actions.reshape(-1)]\n",
    "print(actions)\n",
    "print('==========')\n",
    "print(actions.reshape(-1))\n",
    "print('==========')\n",
    "print(optimal_policy)\n",
    "print('==========')\n",
    "#print(optimal_policy[36])"
   ]
  },
  {
   "cell_type": "code",
   "execution_count": 13,
   "metadata": {},
   "outputs": [
    {
     "name": "stdout",
     "output_type": "stream",
     "text": [
      "0\n",
      "1\n",
      "2\n"
     ]
    }
   ],
   "source": [
    "for i in range(3):\n",
    "    print(i)\n",
    "    "
   ]
  },
  {
   "cell_type": "code",
   "execution_count": 1,
   "metadata": {},
   "outputs": [
    {
     "name": "stdout",
     "output_type": "stream",
     "text": [
      "1.12.0\n",
      "11.3\n",
      "True\n",
      "NVIDIA GeForce RTX 3060\n"
     ]
    }
   ],
   "source": [
    "import torch\n",
    "print(torch.__version__)  #注意是双下划线\n",
    "print(torch.version.cuda)\n",
    "print(torch.cuda.is_available())\n",
    "print(torch.cuda.get_device_name())\n",
    "\n"
   ]
  },
  {
   "cell_type": "code",
   "execution_count": 9,
   "metadata": {},
   "outputs": [
    {
     "name": "stdout",
     "output_type": "stream",
     "text": [
      "4\n"
     ]
    },
    {
     "name": "stderr",
     "output_type": "stream",
     "text": [
      "/home/zlz/anaconda3/envs/RL_gym/lib/python3.9/site-packages/gym/core.py:329: DeprecationWarning: \u001b[33mWARN: Initializing wrapper in old step API which returns one bool instead of two. It is recommended to set `new_step_api=True` to use new step API. This will be the default behaviour in future.\u001b[0m\n",
      "  deprecation(\n",
      "/home/zlz/anaconda3/envs/RL_gym/lib/python3.9/site-packages/gym/wrappers/step_api_compatibility.py:39: DeprecationWarning: \u001b[33mWARN: Initializing environment in old step API which returns one bool instead of two. It is recommended to set `new_step_api=True` to use new step API. This will be the default behaviour in future.\u001b[0m\n",
      "  deprecation(\n"
     ]
    },
    {
     "ename": "AttributeError",
     "evalue": "'FrozenLakeEnv' object has no attribute 'nA'",
     "output_type": "error",
     "traceback": [
      "\u001b[0;31m---------------------------------------------------------------------------\u001b[0m",
      "\u001b[0;31mAttributeError\u001b[0m                            Traceback (most recent call last)",
      "\u001b[1;32m/home/zlz/desktop/RL Theory and Python Implementation/Test.ipynb Cell 6'\u001b[0m in \u001b[0;36m<cell line: 5>\u001b[0;34m()\u001b[0m\n\u001b[1;32m      <a href='vscode-notebook-cell:/home/zlz/desktop/RL%20Theory%20and%20Python%20Implementation/Test.ipynb#ch0000005?line=2'>3</a>\u001b[0m env1\u001b[39m=\u001b[39mgym\u001b[39m.\u001b[39mmake(\u001b[39m'\u001b[39m\u001b[39mFrozenLake-v1\u001b[39m\u001b[39m'\u001b[39m)\n\u001b[1;32m      <a href='vscode-notebook-cell:/home/zlz/desktop/RL%20Theory%20and%20Python%20Implementation/Test.ipynb#ch0000005?line=3'>4</a>\u001b[0m \u001b[39mprint\u001b[39m(env1\u001b[39m.\u001b[39maction_space\u001b[39m.\u001b[39mn)\n\u001b[0;32m----> <a href='vscode-notebook-cell:/home/zlz/desktop/RL%20Theory%20and%20Python%20Implementation/Test.ipynb#ch0000005?line=4'>5</a>\u001b[0m \u001b[39mprint\u001b[39m(env1\u001b[39m.\u001b[39;49mnA)\n",
      "File \u001b[0;32m~/anaconda3/envs/RL_gym/lib/python3.9/site-packages/gym/core.py:337\u001b[0m, in \u001b[0;36mWrapper.__getattr__\u001b[0;34m(self, name)\u001b[0m\n\u001b[1;32m    <a href='file:///~/anaconda3/envs/RL_gym/lib/python3.9/site-packages/gym/core.py?line=334'>335</a>\u001b[0m \u001b[39mif\u001b[39;00m name\u001b[39m.\u001b[39mstartswith(\u001b[39m\"\u001b[39m\u001b[39m_\u001b[39m\u001b[39m\"\u001b[39m):\n\u001b[1;32m    <a href='file:///~/anaconda3/envs/RL_gym/lib/python3.9/site-packages/gym/core.py?line=335'>336</a>\u001b[0m     \u001b[39mraise\u001b[39;00m \u001b[39mAttributeError\u001b[39;00m(\u001b[39mf\u001b[39m\u001b[39m\"\u001b[39m\u001b[39maccessing private attribute \u001b[39m\u001b[39m'\u001b[39m\u001b[39m{\u001b[39;00mname\u001b[39m}\u001b[39;00m\u001b[39m'\u001b[39m\u001b[39m is prohibited\u001b[39m\u001b[39m\"\u001b[39m)\n\u001b[0;32m--> <a href='file:///~/anaconda3/envs/RL_gym/lib/python3.9/site-packages/gym/core.py?line=336'>337</a>\u001b[0m \u001b[39mreturn\u001b[39;00m \u001b[39mgetattr\u001b[39;49m(\u001b[39mself\u001b[39;49m\u001b[39m.\u001b[39;49menv, name)\n",
      "File \u001b[0;32m~/anaconda3/envs/RL_gym/lib/python3.9/site-packages/gym/core.py:337\u001b[0m, in \u001b[0;36mWrapper.__getattr__\u001b[0;34m(self, name)\u001b[0m\n\u001b[1;32m    <a href='file:///~/anaconda3/envs/RL_gym/lib/python3.9/site-packages/gym/core.py?line=334'>335</a>\u001b[0m \u001b[39mif\u001b[39;00m name\u001b[39m.\u001b[39mstartswith(\u001b[39m\"\u001b[39m\u001b[39m_\u001b[39m\u001b[39m\"\u001b[39m):\n\u001b[1;32m    <a href='file:///~/anaconda3/envs/RL_gym/lib/python3.9/site-packages/gym/core.py?line=335'>336</a>\u001b[0m     \u001b[39mraise\u001b[39;00m \u001b[39mAttributeError\u001b[39;00m(\u001b[39mf\u001b[39m\u001b[39m\"\u001b[39m\u001b[39maccessing private attribute \u001b[39m\u001b[39m'\u001b[39m\u001b[39m{\u001b[39;00mname\u001b[39m}\u001b[39;00m\u001b[39m'\u001b[39m\u001b[39m is prohibited\u001b[39m\u001b[39m\"\u001b[39m)\n\u001b[0;32m--> <a href='file:///~/anaconda3/envs/RL_gym/lib/python3.9/site-packages/gym/core.py?line=336'>337</a>\u001b[0m \u001b[39mreturn\u001b[39;00m \u001b[39mgetattr\u001b[39;49m(\u001b[39mself\u001b[39;49m\u001b[39m.\u001b[39;49menv, name)\n",
      "    \u001b[0;31m[... skipping similar frames: Wrapper.__getattr__ at line 337 (1 times)]\u001b[0m\n",
      "File \u001b[0;32m~/anaconda3/envs/RL_gym/lib/python3.9/site-packages/gym/core.py:337\u001b[0m, in \u001b[0;36mWrapper.__getattr__\u001b[0;34m(self, name)\u001b[0m\n\u001b[1;32m    <a href='file:///~/anaconda3/envs/RL_gym/lib/python3.9/site-packages/gym/core.py?line=334'>335</a>\u001b[0m \u001b[39mif\u001b[39;00m name\u001b[39m.\u001b[39mstartswith(\u001b[39m\"\u001b[39m\u001b[39m_\u001b[39m\u001b[39m\"\u001b[39m):\n\u001b[1;32m    <a href='file:///~/anaconda3/envs/RL_gym/lib/python3.9/site-packages/gym/core.py?line=335'>336</a>\u001b[0m     \u001b[39mraise\u001b[39;00m \u001b[39mAttributeError\u001b[39;00m(\u001b[39mf\u001b[39m\u001b[39m\"\u001b[39m\u001b[39maccessing private attribute \u001b[39m\u001b[39m'\u001b[39m\u001b[39m{\u001b[39;00mname\u001b[39m}\u001b[39;00m\u001b[39m'\u001b[39m\u001b[39m is prohibited\u001b[39m\u001b[39m\"\u001b[39m)\n\u001b[0;32m--> <a href='file:///~/anaconda3/envs/RL_gym/lib/python3.9/site-packages/gym/core.py?line=336'>337</a>\u001b[0m \u001b[39mreturn\u001b[39;00m \u001b[39mgetattr\u001b[39;49m(\u001b[39mself\u001b[39;49m\u001b[39m.\u001b[39;49menv, name)\n",
      "\u001b[0;31mAttributeError\u001b[0m: 'FrozenLakeEnv' object has no attribute 'nA'"
     ]
    }
   ],
   "source": [
    "import gym\n",
    "env1=gym.make('CliffWalking-v0')\n",
    "env1=gym.make('FrozenLake-v1')\n",
    "print(env1.action_space.n)\n",
    "print(env1.nA)\n",
    "#print(env2.action_space.n,env2.nA)"
   ]
  },
  {
   "cell_type": "code",
   "execution_count": 10,
   "metadata": {},
   "outputs": [
    {
     "data": {
      "image/png": "[encoded data removed]",
      "text/plain": [
       "<Figure size 648x288 with 2 Axes>"
      ]
     },
     "metadata": {
      "needs_background": "light"
     },
     "output_type": "display_data"
    }
   ],
   "source": [
    "import gym\n",
    "import numpy as np\n",
    "import time\n",
    "from matplotlib import pyplot as plt\n",
    "\n",
    "from sympy import re\n",
    "\n",
    "env=gym.make('Blackjack-v1')\n",
    "\n",
    "def ob2state(observation):\n",
    "    return int(observation[0]) , int(observation[1]) , int(observation[2])\n",
    "\n",
    "def evaluate_action_Mont_carlo(env,policy,episode_num=10000):\n",
    "    q=np.zeros_like(policy)\n",
    "    c=np.zeros_like(policy)\n",
    "    for _ in range(episode_num):\n",
    "        state_actions=[]#储存状态动作轨迹\n",
    "        observation=env.reset()\n",
    "        while 1:#获得状态动作轨迹\n",
    "            state=ob2state(observation)\n",
    "            action=np.random.choice(env.action_space.n,p=policy[state])\n",
    "            state_actions.append((state,action))\n",
    "            observation,reward,done,info=env.step(action)\n",
    "            if done :\n",
    "                break\n",
    "        g=reward\n",
    "        for state , action in state_actions:\n",
    "            c[state][action] +=1\n",
    "            q[state][action] += (g-q[state][action])/c[state][action]\n",
    "    return q\n",
    "\n",
    "def plot(data):\n",
    "    fig,axes=plt.subplots(1,2,figsize=(9,4))\n",
    "    titles=['withour ace','with ace']\n",
    "    have_aces=[0,1]\n",
    "    extent=[11,22,1,11]\n",
    "    for title,have_ace,axis in zip(titles,have_aces,axes):\n",
    "        dat=data[extent[0]:extent[1],extent[2]:extent[3],have_ace].T\n",
    "        axis.imshow(dat,extent=extent,origin='lower')\n",
    "        axis.set_xlabel('palyer_sum')\n",
    "        axis.set_ylabel('dealer showing')\n",
    "        axis.set_title(title)\n",
    "\n",
    "policy=np.zeros(shape=(22,11,2,2))\n",
    "policy[20:,:,:,0]=1  #>20时不要牌\n",
    "policy[:20,:,:,1]=1  #<20时要牌\n",
    "q=evaluate_action_Mont_carlo(env,policy)\n",
    "v=(q*policy).sum(axis=-1)\n",
    "plot(v)"
   ]
  },
  {
   "cell_type": "code",
   "execution_count": null,
   "metadata": {},
   "outputs": [],
   "source": []
  }
 ],
 "metadata": {
  "interpreter": {
   "hash": "9d1a2bab8a42de7aa6c016c220b37519f027d26f4f70e2c6fba08d9ba39e07e7"
  },
  "kernelspec": {
   "display_name": "Python 3.9.7 ('base')",
   "language": "python",
   "name": "python3"
  },
  "language_info": {
   "codemirror_mode": {
    "name": "ipython",
    "version": 3
   },
   "file_extension": ".py",
   "mimetype": "text/x-python",
   "name": "python",
   "nbconvert_exporter": "python",
   "pygments_lexer": "ipython3",
   "version": "3.9.12"
  },
  "orig_nbformat": 4
 },
 "nbformat": 4,
 "nbformat_minor": 2
}
